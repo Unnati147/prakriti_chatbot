{
 "cells": [
  {
   "cell_type": "markdown",
   "metadata": {},
   "source": [
    "## Diet Recommendations based on specific Prakriti\n",
    "\n",
    "Reading the dataset of `diet.csv` and importing the required modules"
   ]
  },
  {
   "cell_type": "code",
   "execution_count": 1,
   "metadata": {},
   "outputs": [],
   "source": [
    "import pandas as pd"
   ]
  },
  {
   "cell_type": "code",
   "execution_count": 2,
   "metadata": {},
   "outputs": [
    {
     "data": {
      "text/html": [
       "<div>\n",
       "<style scoped>\n",
       "    .dataframe tbody tr th:only-of-type {\n",
       "        vertical-align: middle;\n",
       "    }\n",
       "\n",
       "    .dataframe tbody tr th {\n",
       "        vertical-align: top;\n",
       "    }\n",
       "\n",
       "    .dataframe thead th {\n",
       "        text-align: right;\n",
       "    }\n",
       "</style>\n",
       "<table border=\"1\" class=\"dataframe\">\n",
       "  <thead>\n",
       "    <tr style=\"text-align: right;\">\n",
       "      <th></th>\n",
       "      <th>Doshas</th>\n",
       "      <th>Diets to Consume</th>\n",
       "      <th>Diets to Avoid</th>\n",
       "      <th>Lifestyle</th>\n",
       "    </tr>\n",
       "  </thead>\n",
       "  <tbody>\n",
       "    <tr>\n",
       "      <th>0</th>\n",
       "      <td>Vata</td>\n",
       "      <td>Include foods or ingredients that are sweet, s...</td>\n",
       "      <td>Avoid bitter, astringent, or pungent (spicy fo...</td>\n",
       "      <td>Follow a consistent daily routine for stabilit...</td>\n",
       "    </tr>\n",
       "    <tr>\n",
       "      <th>1</th>\n",
       "      <td>Pitta</td>\n",
       "      <td>Include foods/ingredients that are sweet, bitt...</td>\n",
       "      <td>Avoid chilies or foods that are too spicy such...</td>\n",
       "      <td>Maintain a consistent daily routine. Keep warm...</td>\n",
       "    </tr>\n",
       "    <tr>\n",
       "      <th>2</th>\n",
       "      <td>Kapha</td>\n",
       "      <td>Include foods/ingredients that are bitter, pun...</td>\n",
       "      <td>Avoid sweets, baked items, and cold foods. The...</td>\n",
       "      <td>Engage in regular, invigorating exercise to st...</td>\n",
       "    </tr>\n",
       "    <tr>\n",
       "      <th>3</th>\n",
       "      <td>Vata - Pitta</td>\n",
       "      <td>In general, you will want to follow a stricter...</td>\n",
       "      <td>Avoid all raw and cold foods (may be acceptabl...</td>\n",
       "      <td>Maintain a balanced routine with consistent ti...</td>\n",
       "    </tr>\n",
       "    <tr>\n",
       "      <th>4</th>\n",
       "      <td>Pitta - Kapha</td>\n",
       "      <td>Overall, food choices should prioritize lightn...</td>\n",
       "      <td>Avoid heating, inflammatory foods such as nigh...</td>\n",
       "      <td>Consume a diet rich in cooling, non-spicy food...</td>\n",
       "    </tr>\n",
       "    <tr>\n",
       "      <th>5</th>\n",
       "      <td>Vata - Kapha</td>\n",
       "      <td>The food choices should prioritize lightness a...</td>\n",
       "      <td>Avoid all raw and cold foods. Avoid snacking i...</td>\n",
       "      <td>Follow a warm, grounding routine with regular ...</td>\n",
       "    </tr>\n",
       "  </tbody>\n",
       "</table>\n",
       "</div>"
      ],
      "text/plain": [
       "          Doshas                                   Diets to Consume  \\\n",
       "0           Vata  Include foods or ingredients that are sweet, s...   \n",
       "1          Pitta  Include foods/ingredients that are sweet, bitt...   \n",
       "2          Kapha  Include foods/ingredients that are bitter, pun...   \n",
       "3   Vata - Pitta  In general, you will want to follow a stricter...   \n",
       "4  Pitta - Kapha  Overall, food choices should prioritize lightn...   \n",
       "5   Vata - Kapha  The food choices should prioritize lightness a...   \n",
       "\n",
       "                                      Diets to Avoid  \\\n",
       "0  Avoid bitter, astringent, or pungent (spicy fo...   \n",
       "1  Avoid chilies or foods that are too spicy such...   \n",
       "2  Avoid sweets, baked items, and cold foods. The...   \n",
       "3  Avoid all raw and cold foods (may be acceptabl...   \n",
       "4  Avoid heating, inflammatory foods such as nigh...   \n",
       "5  Avoid all raw and cold foods. Avoid snacking i...   \n",
       "\n",
       "                                           Lifestyle  \n",
       "0  Follow a consistent daily routine for stabilit...  \n",
       "1  Maintain a consistent daily routine. Keep warm...  \n",
       "2  Engage in regular, invigorating exercise to st...  \n",
       "3  Maintain a balanced routine with consistent ti...  \n",
       "4  Consume a diet rich in cooling, non-spicy food...  \n",
       "5  Follow a warm, grounding routine with regular ...  "
      ]
     },
     "execution_count": 2,
     "metadata": {},
     "output_type": "execute_result"
    }
   ],
   "source": [
    "df=pd.read_csv(\"../Dataset/diet.csv\")\n",
    "df"
   ]
  },
  {
   "cell_type": "markdown",
   "metadata": {},
   "source": [
    "#### Predicting the diets based on prakriti"
   ]
  },
  {
   "cell_type": "code",
   "execution_count": 3,
   "metadata": {},
   "outputs": [
    {
     "data": {
      "text/plain": [
       "['Include foods or ingredients that are sweet, salt, and sour in your diet. Rice, Wheat, Urad dal, Milk, Ghee, Oil, Curd, Chicken, Mutton, Dry Fruits, etc. Always make sure that you have got enough fat content in your diet. Prefer eating warm and freshly prepared foods. Include ingredients like asafoetida, cumin seeds (jeera), ginger (adarak), black salt (kala Namak), jaggery (Gud), and carom seeds (ajwain, ova), in your regular diet.',\n",
       " 'Avoid bitter, astringent, or pungent (spicy foods/ingredients) taste in your diet. For example millets (Bajri, Nachni, Jawari, Shinghade), certain varieties of fish, dry fish, etc. You can include them once in a while in your diet. But not advisable for regular meals. Foods directly from the refrigerator are not good for Vata dosha.',\n",
       " 'Follow a consistent daily routine for stability. Prioritize warmth and comfort in your environment. Engage in gentle, grounding exercises like yoga or walking, Pranayama (nadi shodhana, kapalabhati). Practice mindfulness through meditation or journaling. Stay hydrated with warm water throughout the day. Opt for nourishing, easily digestible foods. Incorporate regular warm oil massages for relaxation. Ensure you get adequate, restorative sleep each night. Connect with nature through grounding activities. Consider Ayurvedic herbs like ashwagandha or shatavari for balance.']"
      ]
     },
     "execution_count": 3,
     "metadata": {},
     "output_type": "execute_result"
    }
   ],
   "source": [
    "df.loc[df[\"Doshas\"]==\"Vata\"].drop(\"Doshas\",axis=1).to_numpy().tolist()[0]"
   ]
  },
  {
   "cell_type": "markdown",
   "metadata": {},
   "source": [
    "Creating the Function to it"
   ]
  },
  {
   "cell_type": "code",
   "execution_count": 4,
   "metadata": {},
   "outputs": [],
   "source": [
    "def recommend_Diet(prakriti:str)-> list[str]:\n",
    "    try:\n",
    "        recommends=df.loc[df[\"Doshas\"]==prakriti].drop(\"Doshas\",axis=1).to_numpy().tolist()[0]\n",
    "        return recommends\n",
    "    except IndexError as ie:\n",
    "        print(ie)"
   ]
  },
  {
   "cell_type": "code",
   "execution_count": 5,
   "metadata": {},
   "outputs": [
    {
     "data": {
      "text/plain": [
       "['Overall, food choices should prioritize lightness and nourishment, emphasizing lean, easy-to-digest proteins like fish, chicken, egg whites, and mung beans, along with fiber-rich options such as buckwheat (Shingade), quinoa (Rajgira), and vegetables. Bitter and astringent tastes are beneficial, offering cooling effects for Pitta, lightening for Kapha, and drying for both doshas. Opt for low-sugar fruits like apples, blueberries, and cherries, while avoiding fruit juice. Incorporate bitter or astringent vegetables like asparagus (Shatavri) and celery, favoring lighter whole grains such as amaranth (Ragjira) and millet. Choose lighter, cooling oils like ghee and sunflower oil in moderation. Integrate warming digestive spices such as ginger and turmeric, limiting salt intake and sweeteners. Dairy should be limited to ghee, homemade kefir, yogurt, and goat dairy. Drink ginger tea, CCF Tea (cumin, coriander, and fennel tea), or warm lime water between meals to aid digestion. Consider taking Triphala Churna, Bhumyamalaki, or Amalaki before bed to support digestion, elimination, and detoxification.',\n",
       " 'Avoid heating, inflammatory foods such as nightshades, red meat, pork, deli meat, refined carbohydrates, table sugar, high-fructose corn syrup, trans fats, vegetable oil, and alcohol. Avoid grazing and snacking. Avoid eating after 7pm (6pm in winter). Avoid iced and cold beverages. Avoid drinking fluids before, during, or directly after meals. Avoid heavy grains such as wheat, gluten, and oats. Avoid fatty foods, fried foods, unhealthy oils, and excessive oil. Avoid processed food, additives, and dyes. Avoid improper food combinations.',\n",
       " 'Consume a diet rich in cooling, non-spicy foods to pacify both Pitta and Kapha. Engage in regular, moderate exercise such as swimming or brisk walking to balance both doshas. Incorporate stress-reducing practices like meditation or deep breathing to maintain emotional equilibrium. Maintain regular meal times and avoid overeating to support digestion and prevent Pitta-Kapha imbalance. Stay hydrated with room temperature or cool water to cool Pitta without aggravating Kapha. Include bitter and astringent tastes in your diet to pacify excess Kapha and Pitta. Create a calm, peaceful environment for relaxation and quality sleep to balance both doshas. Minimize exposure to heated environments or situations to prevent Pitta aggravation. Engage in activities that promote mental and emotional balance, such as journaling or creative pursuits. Seek guidance from an Ayurvedic practitioner for personalized recommendations tailored to your unique constitution.']"
      ]
     },
     "execution_count": 5,
     "metadata": {},
     "output_type": "execute_result"
    }
   ],
   "source": [
    "recommend_Diet(prakriti=\"Pitta - Kapha\")"
   ]
  }
 ],
 "metadata": {
  "kernelspec": {
   "display_name": "project",
   "language": "python",
   "name": "python3"
  },
  "language_info": {
   "codemirror_mode": {
    "name": "ipython",
    "version": 3
   },
   "file_extension": ".py",
   "mimetype": "text/x-python",
   "name": "python",
   "nbconvert_exporter": "python",
   "pygments_lexer": "ipython3",
   "version": "3.10.9"
  }
 },
 "nbformat": 4,
 "nbformat_minor": 2
}
