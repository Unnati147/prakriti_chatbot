{
 "cells": [
  {
   "cell_type": "markdown",
   "metadata": {},
   "source": [
    "# Video Prediction"
   ]
  },
  {
   "cell_type": "markdown",
   "metadata": {},
   "source": [
    "Importing the required Models"
   ]
  },
  {
   "cell_type": "code",
   "execution_count": 1,
   "metadata": {},
   "outputs": [],
   "source": [
    "import pandas as pd\n",
    "import numpy as np"
   ]
  },
  {
   "cell_type": "markdown",
   "metadata": {},
   "source": [
    "Reading The Dataset"
   ]
  },
  {
   "cell_type": "code",
   "execution_count": 3,
   "metadata": {},
   "outputs": [
    {
     "data": {
      "text/html": [
       "<div>\n",
       "<style scoped>\n",
       "    .dataframe tbody tr th:only-of-type {\n",
       "        vertical-align: middle;\n",
       "    }\n",
       "\n",
       "    .dataframe tbody tr th {\n",
       "        vertical-align: top;\n",
       "    }\n",
       "\n",
       "    .dataframe thead th {\n",
       "        text-align: right;\n",
       "    }\n",
       "</style>\n",
       "<table border=\"1\" class=\"dataframe\">\n",
       "  <thead>\n",
       "    <tr style=\"text-align: right;\">\n",
       "      <th></th>\n",
       "      <th>Doshas</th>\n",
       "      <th>Title</th>\n",
       "      <th>Video</th>\n",
       "    </tr>\n",
       "  </thead>\n",
       "  <tbody>\n",
       "    <tr>\n",
       "      <th>0</th>\n",
       "      <td>Vata</td>\n",
       "      <td>Ayurvedic Nutrition: Balancing Doshas for Opti...</td>\n",
       "      <td>https://youtu.be/_sZkqnW71Jg?feature=shared</td>\n",
       "    </tr>\n",
       "    <tr>\n",
       "      <th>1</th>\n",
       "      <td>Vata</td>\n",
       "      <td>Yoga Dosha (20 mins!) Vata Balancing Ayurvedic...</td>\n",
       "      <td>https://youtu.be/oPIn3_SdbkE?feature=shared</td>\n",
       "    </tr>\n",
       "    <tr>\n",
       "      <th>2</th>\n",
       "      <td>Vata</td>\n",
       "      <td>How to Balance Vata Dosha Naturally?</td>\n",
       "      <td>https://youtu.be/xRppi-Ezowg?feature=shared</td>\n",
       "    </tr>\n",
       "    <tr>\n",
       "      <th>3</th>\n",
       "      <td>Pitta</td>\n",
       "      <td>Pitta Imbalance Symptoms | How to Reduce Pitta...</td>\n",
       "      <td>https://youtu.be/pL0iO73Gu6c?feature=shared</td>\n",
       "    </tr>\n",
       "    <tr>\n",
       "      <th>4</th>\n",
       "      <td>Pitta</td>\n",
       "      <td>Pitta Dosha Diet in Ayurvedic</td>\n",
       "      <td>https://youtu.be/OuoT_OiWL1c?feature=shared</td>\n",
       "    </tr>\n",
       "    <tr>\n",
       "      <th>5</th>\n",
       "      <td>Pitta</td>\n",
       "      <td>Yoga For Pitta Dosha | Yoga Poses To Treat Pit...</td>\n",
       "      <td>https://youtu.be/UeT2E0Bxmzk?feature=shared</td>\n",
       "    </tr>\n",
       "    <tr>\n",
       "      <th>6</th>\n",
       "      <td>Pitta</td>\n",
       "      <td>10 Minute Yoga for Pitta Dosha</td>\n",
       "      <td>https://youtu.be/sv39v6l0k7I?feature=shared</td>\n",
       "    </tr>\n",
       "    <tr>\n",
       "      <th>7</th>\n",
       "      <td>Kapha</td>\n",
       "      <td>Kapha Dosha Routine [5 Tips for Creating Balan...</td>\n",
       "      <td>https://youtu.be/ApOi1DZyJyo?feature=shared</td>\n",
       "    </tr>\n",
       "    <tr>\n",
       "      <th>8</th>\n",
       "      <td>Kapha</td>\n",
       "      <td>Kapha Balancing Diet - Learn What to Eat &amp; Avoid</td>\n",
       "      <td>https://youtu.be/lZBh2wc8LF4?feature=shared</td>\n",
       "    </tr>\n",
       "    <tr>\n",
       "      <th>9</th>\n",
       "      <td>Kapha</td>\n",
       "      <td>Kapha Yoga: Energize Your Body and Mind</td>\n",
       "      <td>https://youtu.be/fDRnH3erao4?feature=shared</td>\n",
       "    </tr>\n",
       "    <tr>\n",
       "      <th>10</th>\n",
       "      <td>Kapha</td>\n",
       "      <td>Holistic balance exercise for kapha</td>\n",
       "      <td>https://youtu.be/BUYGpWrgs3s?feature=shared</td>\n",
       "    </tr>\n",
       "    <tr>\n",
       "      <th>11</th>\n",
       "      <td>Vata - Pitta</td>\n",
       "      <td>How to balance dual dosha Vata Pitta Ayurveda?...</td>\n",
       "      <td>https://youtu.be/I5_7GcXeymo?feature=shared</td>\n",
       "    </tr>\n",
       "    <tr>\n",
       "      <th>12</th>\n",
       "      <td>Vata - Pitta</td>\n",
       "      <td>Balancing dual dosha</td>\n",
       "      <td>https://youtu.be/vaT49x1DXnk?feature=shared</td>\n",
       "    </tr>\n",
       "    <tr>\n",
       "      <th>13</th>\n",
       "      <td>Vata - Pitta</td>\n",
       "      <td>Understanding dual dosha and solutions</td>\n",
       "      <td>https://youtu.be/OBRW86GXoRw?feature=shared</td>\n",
       "    </tr>\n",
       "    <tr>\n",
       "      <th>14</th>\n",
       "      <td>Pitta - Kapha</td>\n",
       "      <td>Can I Have a Pitta &amp; Kapha Imbalance at the Sa...</td>\n",
       "      <td>https://youtu.be/zzHDnPxNlhM?feature=shared</td>\n",
       "    </tr>\n",
       "    <tr>\n",
       "      <th>15</th>\n",
       "      <td>Pitta - Kapha</td>\n",
       "      <td>Pitta Kapha Diet Dual Dosha Food List Program ...</td>\n",
       "      <td>https://youtu.be/V1bVuSJUqxg?feature=shared</td>\n",
       "    </tr>\n",
       "    <tr>\n",
       "      <th>16</th>\n",
       "      <td>Pitta - Kapha</td>\n",
       "      <td>Balancing pitta-kapha</td>\n",
       "      <td>https://youtu.be/b5u7Y_H2hX8?feature=shared</td>\n",
       "    </tr>\n",
       "    <tr>\n",
       "      <th>17</th>\n",
       "      <td>Vata - Kapha</td>\n",
       "      <td>Can I Have a Vata &amp; Kapha Imbalance at the Sam...</td>\n",
       "      <td>https://youtu.be/zzHDnPxNlhM?feature=shared</td>\n",
       "    </tr>\n",
       "    <tr>\n",
       "      <th>18</th>\n",
       "      <td>Vata - Kapha</td>\n",
       "      <td>Vata Kapha Prakriti Problems and Solutions</td>\n",
       "      <td>https://youtu.be/JiNW2Ygwnz0?feature=shared</td>\n",
       "    </tr>\n",
       "    <tr>\n",
       "      <th>19</th>\n",
       "      <td>Vata - Kapha</td>\n",
       "      <td>Vata Kapha Diet Dual Dosha Food List Program i...</td>\n",
       "      <td>https://youtu.be/V1bVuSJUqxg?feature=shared</td>\n",
       "    </tr>\n",
       "    <tr>\n",
       "      <th>20</th>\n",
       "      <td>Vata - Kapha</td>\n",
       "      <td>How To Balance Vata-Kapha Dosha | 5 Tips | Lif...</td>\n",
       "      <td>https://youtu.be/khwL16MXerA?feature=shared</td>\n",
       "    </tr>\n",
       "  </tbody>\n",
       "</table>\n",
       "</div>"
      ],
      "text/plain": [
       "           Doshas                                              Title  \\\n",
       "0            Vata  Ayurvedic Nutrition: Balancing Doshas for Opti...   \n",
       "1            Vata  Yoga Dosha (20 mins!) Vata Balancing Ayurvedic...   \n",
       "2            Vata               How to Balance Vata Dosha Naturally?   \n",
       "3           Pitta  Pitta Imbalance Symptoms | How to Reduce Pitta...   \n",
       "4           Pitta                      Pitta Dosha Diet in Ayurvedic   \n",
       "5           Pitta  Yoga For Pitta Dosha | Yoga Poses To Treat Pit...   \n",
       "6           Pitta                     10 Minute Yoga for Pitta Dosha   \n",
       "7           Kapha  Kapha Dosha Routine [5 Tips for Creating Balan...   \n",
       "8           Kapha   Kapha Balancing Diet - Learn What to Eat & Avoid   \n",
       "9           Kapha            Kapha Yoga: Energize Your Body and Mind   \n",
       "10          Kapha                Holistic balance exercise for kapha   \n",
       "11   Vata - Pitta  How to balance dual dosha Vata Pitta Ayurveda?...   \n",
       "12   Vata - Pitta                               Balancing dual dosha   \n",
       "13   Vata - Pitta             Understanding dual dosha and solutions   \n",
       "14  Pitta - Kapha  Can I Have a Pitta & Kapha Imbalance at the Sa...   \n",
       "15  Pitta - Kapha  Pitta Kapha Diet Dual Dosha Food List Program ...   \n",
       "16  Pitta - Kapha                              Balancing pitta-kapha   \n",
       "17   Vata - Kapha  Can I Have a Vata & Kapha Imbalance at the Sam...   \n",
       "18   Vata - Kapha         Vata Kapha Prakriti Problems and Solutions   \n",
       "19   Vata - Kapha  Vata Kapha Diet Dual Dosha Food List Program i...   \n",
       "20   Vata - Kapha  How To Balance Vata-Kapha Dosha | 5 Tips | Lif...   \n",
       "\n",
       "                                           Video  \n",
       "0    https://youtu.be/_sZkqnW71Jg?feature=shared  \n",
       "1    https://youtu.be/oPIn3_SdbkE?feature=shared  \n",
       "2    https://youtu.be/xRppi-Ezowg?feature=shared  \n",
       "3   https://youtu.be/pL0iO73Gu6c?feature=shared   \n",
       "4   https://youtu.be/OuoT_OiWL1c?feature=shared   \n",
       "5   https://youtu.be/UeT2E0Bxmzk?feature=shared   \n",
       "6   https://youtu.be/sv39v6l0k7I?feature=shared   \n",
       "7   https://youtu.be/ApOi1DZyJyo?feature=shared   \n",
       "8   https://youtu.be/lZBh2wc8LF4?feature=shared   \n",
       "9    https://youtu.be/fDRnH3erao4?feature=shared  \n",
       "10  https://youtu.be/BUYGpWrgs3s?feature=shared   \n",
       "11  https://youtu.be/I5_7GcXeymo?feature=shared   \n",
       "12  https://youtu.be/vaT49x1DXnk?feature=shared   \n",
       "13  https://youtu.be/OBRW86GXoRw?feature=shared   \n",
       "14   https://youtu.be/zzHDnPxNlhM?feature=shared  \n",
       "15   https://youtu.be/V1bVuSJUqxg?feature=shared  \n",
       "16   https://youtu.be/b5u7Y_H2hX8?feature=shared  \n",
       "17   https://youtu.be/zzHDnPxNlhM?feature=shared  \n",
       "18   https://youtu.be/JiNW2Ygwnz0?feature=shared  \n",
       "19   https://youtu.be/V1bVuSJUqxg?feature=shared  \n",
       "20   https://youtu.be/khwL16MXerA?feature=shared  "
      ]
     },
     "execution_count": 3,
     "metadata": {},
     "output_type": "execute_result"
    }
   ],
   "source": [
    "df=pd.read_csv(\"../dataset/videos.csv\")\n",
    "df"
   ]
  },
  {
   "cell_type": "markdown",
   "metadata": {},
   "source": [
    "Getting the recommendation related to Pitta Prakriti"
   ]
  },
  {
   "cell_type": "code",
   "execution_count": 12,
   "metadata": {},
   "outputs": [],
   "source": [
    "vids=df.loc[df[\"Doshas\"]==\"Pitta\"].drop(\"Doshas\",axis=1).to_dict()"
   ]
  },
  {
   "cell_type": "code",
   "execution_count": 13,
   "metadata": {},
   "outputs": [
    {
     "data": {
      "text/plain": [
       "{'Title': {3: 'Pitta Imbalance Symptoms | How to Reduce Pitta from Head',\n",
       "  4: 'Pitta Dosha Diet in Ayurvedic',\n",
       "  5: 'Yoga For Pitta Dosha | Yoga Poses To Treat Pitta Dosha | Yoga At Home |',\n",
       "  6: '10 Minute Yoga for Pitta Dosha'},\n",
       " 'Video': {3: 'https://youtu.be/pL0iO73Gu6c?feature=shared ',\n",
       "  4: 'https://youtu.be/OuoT_OiWL1c?feature=shared ',\n",
       "  5: 'https://youtu.be/UeT2E0Bxmzk?feature=shared ',\n",
       "  6: 'https://youtu.be/sv39v6l0k7I?feature=shared '}}"
      ]
     },
     "execution_count": 13,
     "metadata": {},
     "output_type": "execute_result"
    }
   ],
   "source": [
    "vids"
   ]
  },
  {
   "cell_type": "code",
   "execution_count": 22,
   "metadata": {},
   "outputs": [
    {
     "name": "stdout",
     "output_type": "stream",
     "text": [
      "['Pitta Imbalance Symptoms | How to Reduce Pitta from Head', 'Pitta Dosha Diet in Ayurvedic', 'Yoga For Pitta Dosha | Yoga Poses To Treat Pitta Dosha | Yoga At Home |', '10 Minute Yoga for Pitta Dosha']\n",
      "['https://youtu.be/pL0iO73Gu6c?feature=shared ', 'https://youtu.be/OuoT_OiWL1c?feature=shared ', 'https://youtu.be/UeT2E0Bxmzk?feature=shared ', 'https://youtu.be/sv39v6l0k7I?feature=shared ']\n"
     ]
    }
   ],
   "source": [
    "videos={}\n",
    "for keys in vids:\n",
    "    # print(list(zip(vids[keys])))\n",
    "    print(list(vids[keys].values()))"
   ]
  },
  {
   "cell_type": "code",
   "execution_count": 24,
   "metadata": {},
   "outputs": [
    {
     "data": {
      "text/plain": [
       "{'Pitta Imbalance Symptoms | How to Reduce Pitta from Head': 'https://youtu.be/pL0iO73Gu6c?feature=shared ',\n",
       " 'Pitta Dosha Diet in Ayurvedic': 'https://youtu.be/OuoT_OiWL1c?feature=shared ',\n",
       " 'Yoga For Pitta Dosha | Yoga Poses To Treat Pitta Dosha | Yoga At Home |': 'https://youtu.be/UeT2E0Bxmzk?feature=shared ',\n",
       " '10 Minute Yoga for Pitta Dosha': 'https://youtu.be/sv39v6l0k7I?feature=shared '}"
      ]
     },
     "execution_count": 24,
     "metadata": {},
     "output_type": "execute_result"
    }
   ],
   "source": [
    "dict(zip(list(vids[\"Title\"].values()),list(vids[\"Video\"].values())))"
   ]
  },
  {
   "cell_type": "code",
   "execution_count": 25,
   "metadata": {},
   "outputs": [],
   "source": [
    "def getVideos(prakriti:str)->dict[str,str]:\n",
    "    vids=df.loc[df[\"Doshas\"]==prakriti].drop(\"Doshas\",axis=1).to_dict()\n",
    "    return dict(zip(list(vids[\"Title\"].values()),list(vids[\"Video\"].values())))"
   ]
  },
  {
   "cell_type": "code",
   "execution_count": 26,
   "metadata": {},
   "outputs": [
    {
     "data": {
      "text/plain": [
       "{'Can I Have a Vata & Kapha Imbalance at the Same Time?': 'https://youtu.be/zzHDnPxNlhM?feature=shared',\n",
       " 'Vata Kapha Prakriti Problems and Solutions': 'https://youtu.be/JiNW2Ygwnz0?feature=shared',\n",
       " 'Vata Kapha Diet Dual Dosha Food List Program in Ayurveda': 'https://youtu.be/V1bVuSJUqxg?feature=shared',\n",
       " 'How To Balance Vata-Kapha Dosha | 5 Tips | Lifestyle & Diet': 'https://youtu.be/khwL16MXerA?feature=shared'}"
      ]
     },
     "execution_count": 26,
     "metadata": {},
     "output_type": "execute_result"
    }
   ],
   "source": [
    "getVideos(\"Vata - Kapha\")"
   ]
  },
  {
   "cell_type": "code",
   "execution_count": null,
   "metadata": {},
   "outputs": [],
   "source": []
  }
 ],
 "metadata": {
  "kernelspec": {
   "display_name": "project",
   "language": "python",
   "name": "python3"
  },
  "language_info": {
   "codemirror_mode": {
    "name": "ipython",
    "version": 3
   },
   "file_extension": ".py",
   "mimetype": "text/x-python",
   "name": "python",
   "nbconvert_exporter": "python",
   "pygments_lexer": "ipython3",
   "version": "3.10.9"
  }
 },
 "nbformat": 4,
 "nbformat_minor": 2
}
